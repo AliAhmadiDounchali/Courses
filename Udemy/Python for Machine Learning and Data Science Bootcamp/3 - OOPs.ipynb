{
 "cells": [
  {
   "cell_type": "markdown",
   "metadata": {},
   "source": [
    "# Classes and Objects"
   ]
  },
  {
   "cell_type": "code",
   "execution_count": 1,
   "metadata": {},
   "outputs": [],
   "source": [
    "class classname:\n",
    "    var = 'This is a class variable'\n",
    "    def func(self):\n",
    "        print('I am inside the class')"
   ]
  },
  {
   "cell_type": "code",
   "execution_count": 2,
   "metadata": {},
   "outputs": [
    {
     "data": {
      "text/plain": [
       "'This is a class variable'"
      ]
     },
     "execution_count": 2,
     "metadata": {},
     "output_type": "execute_result"
    }
   ],
   "source": [
    "obj1 = classname()\n",
    "obj1.var"
   ]
  },
  {
   "cell_type": "code",
   "execution_count": 3,
   "metadata": {},
   "outputs": [
    {
     "name": "stdout",
     "output_type": "stream",
     "text": [
      "I am inside the class\n"
     ]
    }
   ],
   "source": [
    "obj1.func()"
   ]
  },
  {
   "cell_type": "code",
   "execution_count": 4,
   "metadata": {},
   "outputs": [
    {
     "name": "stdout",
     "output_type": "stream",
     "text": [
      "This is a class variable \n",
      " This is the updated one!\n"
     ]
    }
   ],
   "source": [
    "obj2 = classname()\n",
    "obj2.var = 'This is the updated one!'\n",
    "print(obj1.var,'\\n',obj2.var)"
   ]
  },
  {
   "cell_type": "code",
   "execution_count": 5,
   "metadata": {},
   "outputs": [],
   "source": [
    "class student:\n",
    "    def __int__(self,name,branch,year):\n",
    "        self.n = name\n",
    "        self.b = branch\n",
    "        self.y = year\n",
    "    def print_method(self):\n",
    "        print('Name ',self.n)\n",
    "        print('Branch ',self.b)\n",
    "        print('Year ',self.y)"
   ]
  },
  {
   "cell_type": "code",
   "execution_count": 16,
   "metadata": {},
   "outputs": [
    {
     "ename": "TypeError",
     "evalue": "student() takes no arguments",
     "output_type": "error",
     "traceback": [
      "\u001b[1;31m---------------------------------------------------------------------------\u001b[0m",
      "\u001b[1;31mTypeError\u001b[0m                                 Traceback (most recent call last)",
      "\u001b[1;32m<ipython-input-16-8b55eec767eb>\u001b[0m in \u001b[0;36m<module>\u001b[1;34m()\u001b[0m\n\u001b[1;32m----> 1\u001b[1;33m \u001b[0mobj1\u001b[0m \u001b[1;33m=\u001b[0m \u001b[0mstudent\u001b[0m\u001b[1;33m(\u001b[0m\u001b[1;34m\"Paul\"\u001b[0m\u001b[1;33m,\u001b[0m\u001b[1;34m\"CSE\"\u001b[0m\u001b[1;33m,\u001b[0m\u001b[1;34m\"2019\"\u001b[0m\u001b[1;33m)\u001b[0m\u001b[1;33m\u001b[0m\u001b[1;33m\u001b[0m\u001b[0m\n\u001b[0m\u001b[0;32m      2\u001b[0m \u001b[1;31m#obj1.print_method()\u001b[0m\u001b[1;33m\u001b[0m\u001b[1;33m\u001b[0m\u001b[1;33m\u001b[0m\u001b[0m\n",
      "\u001b[1;31mTypeError\u001b[0m: student() takes no arguments"
     ]
    }
   ],
   "source": [
    "obj1 = student(\"Paul\",\"CSE\",\"2019\")\n",
    "#obj1.print_method()"
   ]
  },
  {
   "cell_type": "markdown",
   "metadata": {},
   "source": [
    "# Q1\n",
    "Create two new vehicles called car1 and car2. Set car 1 to be a red convertible worth 70,000.00 with a name Ferrari and car2 to be a blue van named Jeep worth 15,000.00"
   ]
  },
  {
   "cell_type": "code",
   "execution_count": 17,
   "metadata": {},
   "outputs": [
    {
     "name": "stdout",
     "output_type": "stream",
     "text": [
      "Ferrari is a red convertible worth $100.00.\n",
      "Jeep is a blue van worth $100.00.\n"
     ]
    }
   ],
   "source": [
    "#define the vehicle class\n",
    "class vehicle:\n",
    "    name = ''\n",
    "    kind = 'car'\n",
    "    color = ''\n",
    "    value = 100.00\n",
    "    def description(self):\n",
    "        desc_str = '%s is a %s %s worth $%.2f.'% (self.name,self.color,self.kind,self.value)\n",
    "        return desc_str\n",
    "car1 = vehicle()\n",
    "car2 = vehicle()\n",
    "car1.name = 'Ferrari'\n",
    "car1.kind = 'convertible'\n",
    "car1.color = 'red'\n",
    "car1.vale = 70,000.00\n",
    "car2.name = 'Jeep'\n",
    "car2.kind = 'van'\n",
    "car2.color = 'blue'\n",
    "car2.vale = 15,000.00\n",
    "\n",
    "\n",
    "print(car1.description())\n",
    "print(car2.description())\n",
    "\n",
    "    "
   ]
  },
  {
   "cell_type": "markdown",
   "metadata": {},
   "source": [
    "# Inheritance"
   ]
  },
  {
   "cell_type": "code",
   "execution_count": 20,
   "metadata": {},
   "outputs": [
    {
     "name": "stdout",
     "output_type": "stream",
     "text": [
      "I'm the parent class\n",
      "I'm a citrus and I belong to a fruit class\n"
     ]
    }
   ],
   "source": [
    "#Single Inheritance\n",
    "class fruit:\n",
    "    def __init__(self):\n",
    "        print(\"I'm the parent class\")\n",
    "class citrus(fruit):\n",
    "    def __init__(self):\n",
    "        super().__init__()\n",
    "        print(\"I'm a citrus and I belong to a fruit class\")\n",
    "obj1 = citrus()"
   ]
  },
  {
   "cell_type": "code",
   "execution_count": 21,
   "metadata": {},
   "outputs": [
    {
     "data": {
      "text/plain": [
       "True"
      ]
     },
     "execution_count": 21,
     "metadata": {},
     "output_type": "execute_result"
    }
   ],
   "source": [
    "#Multiple Inheritance\n",
    "class A:\n",
    "    pass\n",
    "class B:\n",
    "    pass\n",
    "class C(A,B):\n",
    "    pass\n",
    "issubclass(C,A) and issubclass(C,B)"
   ]
  },
  {
   "cell_type": "code",
   "execution_count": 22,
   "metadata": {},
   "outputs": [
    {
     "data": {
      "text/plain": [
       "1"
      ]
     },
     "execution_count": 22,
     "metadata": {},
     "output_type": "execute_result"
    }
   ],
   "source": [
    "#Multilevel Inheritance\n",
    "class A:\n",
    "    x = 1\n",
    "class B(A):\n",
    "    pass\n",
    "class C(B):\n",
    "    pass\n",
    "obj1 = C()\n",
    "obj1.x"
   ]
  },
  {
   "cell_type": "code",
   "execution_count": 23,
   "metadata": {},
   "outputs": [
    {
     "data": {
      "text/plain": [
       "True"
      ]
     },
     "execution_count": 23,
     "metadata": {},
     "output_type": "execute_result"
    }
   ],
   "source": [
    "#Hierarchical Inheritance\n",
    "class A:\n",
    "    x = 1\n",
    "class B(A):\n",
    "    pass\n",
    "class C(A):\n",
    "    pass\n",
    "issubclass(B,A) and issubclass(C,A)"
   ]
  },
  {
   "cell_type": "code",
   "execution_count": 27,
   "metadata": {},
   "outputs": [
    {
     "data": {
      "text/plain": [
       "1"
      ]
     },
     "execution_count": 27,
     "metadata": {},
     "output_type": "execute_result"
    }
   ],
   "source": [
    "#Hybrid Inheritance\n",
    "class A:\n",
    "    x = 1\n",
    "#Hierarchical Inheritance\n",
    "class B(A):\n",
    "    pass\n",
    "class C(A):\n",
    "    pass\n",
    "class D(A):\n",
    "    pass\n",
    "#Multiple Inheritance\n",
    "class E(B,D):\n",
    "    pass\n",
    "obE = E()\n",
    "obE.x"
   ]
  },
  {
   "cell_type": "markdown",
   "metadata": {},
   "source": [
    "# Super Function"
   ]
  },
  {
   "cell_type": "code",
   "execution_count": 31,
   "metadata": {},
   "outputs": [
    {
     "name": "stdout",
     "output_type": "stream",
     "text": [
      "Starting engine\n",
      "I have two wheels\n",
      "Stoping engine\n"
     ]
    }
   ],
   "source": [
    "class vehicle():\n",
    "    def start(self):\n",
    "        print('Starting engine')\n",
    "    def stop(self):\n",
    "        print('Stoping engine')\n",
    "class Twowheel(vehicle):\n",
    "    def say(self):\n",
    "        super().start()\n",
    "        print('I have two wheels')\n",
    "        super().stop()\n",
    "Harley  = Twowheel()\n",
    "Harley.say()"
   ]
  },
  {
   "cell_type": "markdown",
   "metadata": {},
   "source": [
    "# Overriding and Overloading"
   ]
  },
  {
   "cell_type": "code",
   "execution_count": 38,
   "metadata": {},
   "outputs": [
    {
     "data": {
      "text/plain": [
       "11"
      ]
     },
     "execution_count": 38,
     "metadata": {},
     "output_type": "execute_result"
    }
   ],
   "source": [
    "#Overloading\n",
    "def add(a,b):\n",
    "    return a+b\n",
    "def add(a,b,c):\n",
    "    return a+b+c\n",
    "add(2,4,5)"
   ]
  },
  {
   "cell_type": "code",
   "execution_count": 42,
   "metadata": {},
   "outputs": [
    {
     "data": {
      "text/plain": [
       "'python Tutorial'"
      ]
     },
     "execution_count": 42,
     "metadata": {},
     "output_type": "execute_result"
    }
   ],
   "source": [
    "def add(instanceOf,*args):\n",
    "    if instanceOf ==int:\n",
    "        result = 0\n",
    "    if instanceOf ==str:\n",
    "        result = ''\n",
    "    if instanceOf ==float:\n",
    "        result = 0.0\n",
    "    for i in args:\n",
    "        result +=i\n",
    "    return result\n",
    "add(int,3,4,5)\n",
    "add(float,3.0,4.9,5.4)\n",
    "add(str,'python',' ','Tutorial')"
   ]
  },
  {
   "cell_type": "code",
   "execution_count": 46,
   "metadata": {},
   "outputs": [
    {
     "name": "stdout",
     "output_type": "stream",
     "text": [
      "I'm inside B\n",
      "I'm inside A\n"
     ]
    }
   ],
   "source": [
    "#Overriding\n",
    "class A:\n",
    "    def checkit(self):\n",
    "        print(\"I'm inside A\")\n",
    "class B(A):\n",
    "    def checkit(self):\n",
    "        print(\"I'm inside B\")\n",
    "ob1 = B()\n",
    "ob2 = A()\n",
    "ob1.checkit()\n",
    "ob2.checkit()"
   ]
  },
  {
   "cell_type": "markdown",
   "metadata": {},
   "source": [
    "#  Encapsulation"
   ]
  },
  {
   "cell_type": "code",
   "execution_count": 48,
   "metadata": {},
   "outputs": [
    {
     "ename": "AttributeError",
     "evalue": "'encap' object has no attribute 'b'",
     "output_type": "error",
     "traceback": [
      "\u001b[1;31m---------------------------------------------------------------------------\u001b[0m",
      "\u001b[1;31mAttributeError\u001b[0m                            Traceback (most recent call last)",
      "\u001b[1;32m<ipython-input-48-f252953dd04d>\u001b[0m in \u001b[0;36m<module>\u001b[1;34m()\u001b[0m\n\u001b[0;32m      5\u001b[0m         \u001b[0mself\u001b[0m\u001b[1;33m.\u001b[0m\u001b[0m__c\u001b[0m \u001b[1;33m=\u001b[0m \u001b[1;36m123\u001b[0m\u001b[1;33m\u001b[0m\u001b[1;33m\u001b[0m\u001b[0m\n\u001b[0;32m      6\u001b[0m \u001b[0mobj1\u001b[0m \u001b[1;33m=\u001b[0m \u001b[0mencap\u001b[0m\u001b[1;33m(\u001b[0m\u001b[1;33m)\u001b[0m\u001b[1;33m\u001b[0m\u001b[1;33m\u001b[0m\u001b[0m\n\u001b[1;32m----> 7\u001b[1;33m \u001b[0mprint\u001b[0m\u001b[1;33m(\u001b[0m\u001b[0mobj1\u001b[0m\u001b[1;33m.\u001b[0m\u001b[0ma\u001b[0m\u001b[1;33m,\u001b[0m\u001b[0mobj1\u001b[0m\u001b[1;33m.\u001b[0m\u001b[0mb\u001b[0m\u001b[1;33m,\u001b[0m\u001b[0mobj1\u001b[0m\u001b[1;33m.\u001b[0m\u001b[0mc\u001b[0m\u001b[1;33m)\u001b[0m\u001b[1;33m\u001b[0m\u001b[1;33m\u001b[0m\u001b[0m\n\u001b[0m",
      "\u001b[1;31mAttributeError\u001b[0m: 'encap' object has no attribute 'b'"
     ]
    }
   ],
   "source": [
    "class encap(object):\n",
    "    def __init__(self):\n",
    "        self.a = 123\n",
    "        self._b = 123\n",
    "        self.__c = 123\n",
    "obj1 = encap()\n",
    "print(obj1.a,obj1.b,obj1.c)"
   ]
  },
  {
   "cell_type": "markdown",
   "metadata": {},
   "source": [
    "# Private Method"
   ]
  },
  {
   "cell_type": "code",
   "execution_count": 51,
   "metadata": {},
   "outputs": [
    {
     "name": "stdout",
     "output_type": "stream",
     "text": [
      "Maxspeed of car is  200\n"
     ]
    }
   ],
   "source": [
    "class car:\n",
    "    __maxspeed = 0\n",
    "    __name = ''\n",
    "    def __init__(self):\n",
    "        self.__maxspeed = 200\n",
    "        self.__name = 'Supercar'\n",
    "    def drive(self):\n",
    "        print('Maxspeed of car is ',self.__maxspeed)\n",
    "\n",
    "obj1 = car()\n",
    "obj1.drive()"
   ]
  },
  {
   "cell_type": "code",
   "execution_count": 52,
   "metadata": {},
   "outputs": [
    {
     "name": "stdout",
     "output_type": "stream",
     "text": [
      "Maxspeed of car is  200\n"
     ]
    }
   ],
   "source": [
    "obj1.__maxspeed = 300\n",
    "obj1.drive()"
   ]
  },
  {
   "cell_type": "code",
   "execution_count": 56,
   "metadata": {},
   "outputs": [
    {
     "name": "stdout",
     "output_type": "stream",
     "text": [
      "Maxspeed of car is  400\n"
     ]
    }
   ],
   "source": [
    "class car:\n",
    "    __maxspeed = 0\n",
    "    __name = ''\n",
    "    def __init__(self):\n",
    "        self.__maxspeed = 200\n",
    "        self.__name = 'Supercar'\n",
    "    def drive(self):\n",
    "        print('Maxspeed of car is ',self.__maxspeed)\n",
    "    def SetMaxspeed(self,speed):\n",
    "        self.__maxspeed = speed\n",
    "obj1 = car()\n",
    "obj1.SetMaxspeed(400)\n",
    "obj1.drive()"
   ]
  },
  {
   "cell_type": "markdown",
   "metadata": {},
   "source": [
    "# Polymorphism"
   ]
  },
  {
   "cell_type": "code",
   "execution_count": 58,
   "metadata": {},
   "outputs": [
    {
     "name": "stdout",
     "output_type": "stream",
     "text": [
      "<bound method shark.swim of <__main__.shark object at 0x000000000523CA20>>\n",
      "<bound method shark.bones of <__main__.shark object at 0x000000000523CA20>>\n",
      "<bound method Clownfist.swim of <__main__.Clownfist object at 0x000000000523C8D0>>\n",
      "<bound method Clownfist.bones of <__main__.Clownfist object at 0x000000000523C8D0>>\n"
     ]
    }
   ],
   "source": [
    "class shark:\n",
    "    def swim(self):\n",
    "        print('The shark is swimming')\n",
    "    def bones(self):\n",
    "        print('shark has soft cartilage')\n",
    "class Clownfist:\n",
    "    def swim(self):\n",
    "        print('Clownfishes can swim')\n",
    "    def bones(self):\n",
    "        print('Clownfishes can bones')\n",
    "s1 = shark()\n",
    "c1 = Clownfist()\n",
    "for fishes in (s1,c1):\n",
    "    print(fishes.swim)\n",
    "    print(fishes.bones)"
   ]
  },
  {
   "cell_type": "code",
   "execution_count": 60,
   "metadata": {},
   "outputs": [
    {
     "name": "stdout",
     "output_type": "stream",
     "text": [
      "The shark is swimming\n",
      "Clownfishes can swim\n"
     ]
    }
   ],
   "source": [
    "def intheocean(fish):\n",
    "    fish.swim()\n",
    "s1 = shark()\n",
    "c1 = Clownfist()\n",
    "intheocean(s1)\n",
    "intheocean(c1)"
   ]
  },
  {
   "cell_type": "code",
   "execution_count": null,
   "metadata": {},
   "outputs": [],
   "source": []
  }
 ],
 "metadata": {
  "kernelspec": {
   "display_name": "Python 3",
   "language": "python",
   "name": "python3"
  },
  "language_info": {
   "codemirror_mode": {
    "name": "ipython",
    "version": 3
   },
   "file_extension": ".py",
   "mimetype": "text/x-python",
   "name": "python",
   "nbconvert_exporter": "python",
   "pygments_lexer": "ipython3",
   "version": "3.7.3"
  }
 },
 "nbformat": 4,
 "nbformat_minor": 2
}
